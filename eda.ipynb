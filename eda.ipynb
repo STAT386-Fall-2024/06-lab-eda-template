{
 "cells": [
  {
   "cell_type": "markdown",
   "metadata": {},
   "source": [
    "The crabs dataset is available through the `R` package `MASS`. We will be exploring this data through this lab.  The dataset contains the following variables: `sp`: species, `sex`: sex, `index`: numerical index of the group (`sex`, `sp` combo), `FL`: frontal lobe size (mm), `CL`: carapace length (mm), `CW`: carapace width, and `BD`: body depth."
   ]
  },
  {
   "cell_type": "code",
   "execution_count": null,
   "metadata": {},
   "outputs": [],
   "source": [
    "import pandas as pd\n",
    "import seaborn as sns\n",
    "import matplotlib.pyplot as plt"
   ]
  },
  {
   "cell_type": "code",
   "execution_count": null,
   "metadata": {},
   "outputs": [],
   "source": [
    "# Read in the crabs data here:\n"
   ]
  },
  {
   "cell_type": "markdown",
   "metadata": {},
   "source": [
    "a. (i) How many variables and how many observations are in the dataset?  \n",
    "     (ii) The dataset has two categorical variables, `sp` (species) and `sex`. Use Seaborn's countplot to visualize the number of observations in these categories. Set `x = sex`, and  `hue = sp`.  \n",
    "   How many observations are there in each of the four groups?"
   ]
  },
  {
   "cell_type": "markdown",
   "metadata": {},
   "source": [
    "### Answer a. (i):"
   ]
  },
  {
   "cell_type": "code",
   "execution_count": null,
   "metadata": {},
   "outputs": [],
   "source": [
    "# countplot here:\n"
   ]
  },
  {
   "cell_type": "markdown",
   "metadata": {},
   "source": [
    "### Answer a. (ii):"
   ]
  },
  {
   "cell_type": "markdown",
   "metadata": {},
   "source": [
    "b. Create a default pairs plot of the five quantitative variables (omitting sp, sex & index) via Seaborn pairplot. Do not optimize this scatterplot matrix and do not use any colors or symbols. Describe this scatterplot matrix. Which questions naturally come to your mind? What would you initially anticipate as the answers to your questions? Do not modify your answer here, even if it turns out later on that your anticipation was not correct.  \n",
    "\n",
    "Hint: Think of which variables have been ignored in your scatterplot matrix."
   ]
  },
  {
   "cell_type": "code",
   "execution_count": null,
   "metadata": {},
   "outputs": [],
   "source": [
    "# pairplot here:\n"
   ]
  },
  {
   "cell_type": "markdown",
   "metadata": {},
   "source": [
    "### Answer (b):\n",
    "\n",
    "\n",
    "\n",
    "\n"
   ]
  },
  {
   "cell_type": "markdown",
   "metadata": {},
   "source": [
    "c) Redo your scatterplot matrix from part (b) of the five quantitative variables (omitting sp, sex & index) via pairplot. Now use different colors and symbols. Recall that \"B\" represents blue crabs and \"O\" represents orange crabs, so use these two colors. Use \"^\" to represent male crabs and \".\" to represent female crabs (Hint: look at the plot_kws argument). The off-diagnoal entries should be kde plots. Describe this scatterplot matrix. Does this answer your previous questions from part (b)? Was your assumption correct?"
   ]
  },
  {
   "cell_type": "code",
   "execution_count": null,
   "metadata": {},
   "outputs": [],
   "source": [
    "# styled pairplot here:\n"
   ]
  },
  {
   "cell_type": "markdown",
   "metadata": {},
   "source": [
    "### Answer (c) here:"
   ]
  },
  {
   "cell_type": "markdown",
   "metadata": {},
   "source": [
    "(d) Use Seaborn's `regplot` to plot a regression line using `CW` as the input variable regressing onto `RW`. What conclusions do you make from this graph? Does this seem like a viable model?"
   ]
  },
  {
   "cell_type": "code",
   "execution_count": null,
   "metadata": {},
   "outputs": [],
   "source": [
    "# regplot here:\n"
   ]
  },
  {
   "cell_type": "markdown",
   "metadata": {},
   "source": [
    "### Answer (d) here:"
   ]
  },
  {
   "cell_type": "markdown",
   "metadata": {},
   "source": [
    "e. Use Seaborn's `FacetGrid` to group regplot by `sex` (rows) and 'sp' (columns). Color the plots by species. Use the same numerical variables as in part d. What do you think about each of these regression lines? How do they compare to d.?"
   ]
  },
  {
   "cell_type": "code",
   "execution_count": null,
   "metadata": {},
   "outputs": [],
   "source": [
    "# FacetGrid here:\n"
   ]
  },
  {
   "cell_type": "markdown",
   "metadata": {},
   "source": [
    "### Answer (e) here:"
   ]
  },
  {
   "cell_type": "markdown",
   "metadata": {},
   "source": [
    "f. Here you will use `subplots` with 1 row and three columns to create three side-by-side boxplots, one set of boxpots for each numerical variable `RW`, `CL`, and `CW`. Use `sex` for the x-axis, and color by `sp`. Only include a legend in the left-most figure. Be sure to size your resize your figure to scale well to the problem. Comment on your resulting figure."
   ]
  },
  {
   "cell_type": "code",
   "execution_count": null,
   "metadata": {},
   "outputs": [],
   "source": [
    "# Boxplots here:\n",
    "\n",
    "\n"
   ]
  },
  {
   "cell_type": "markdown",
   "metadata": {},
   "source": [
    "### Answer (f) here:"
   ]
  }
 ],
 "metadata": {
  "kernelspec": {
   "display_name": "base",
   "language": "python",
   "name": "python3"
  },
  "language_info": {
   "codemirror_mode": {
    "name": "ipython",
    "version": 3
   },
   "file_extension": ".py",
   "mimetype": "text/x-python",
   "name": "python",
   "nbconvert_exporter": "python",
   "pygments_lexer": "ipython3",
   "version": "3.11.4"
  },
  "orig_nbformat": 4
 },
 "nbformat": 4,
 "nbformat_minor": 2
}
